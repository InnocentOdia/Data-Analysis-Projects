{
 "cells": [
  {
   "cell_type": "markdown",
   "metadata": {
    "collapsed": true
   },
   "source": [
    "# Exploring Hacker News Post: Ask or Show Hacker News?\n",
    "\n",
    "### Introduction\n",
    "This project seeks to discover the category of post that receives more comments on Hacker News - Ask Hacker News (Ask HN) or Show Hacker News (Show HN) posts? Hacker News is a popular site where technology related stories (or 'posts') are voted and commented upon. The two types of posts we'll explore begin with either Ask HN or Show HN.\n",
    "\n",
    "Users submit Ask HN posts to ask the Hacker News community a specific question, such as \"What is the best online course you've ever taken?\" Likewise, users submit Show HN posts to show the Hacker News community a project, product, or just generally something interesting.\n",
    "\n",
    "We'll specifically compare these two types of posts to determine the following:\n",
    "\n",
    "Do Ask HN or Show HN receive more comments on average?\n",
    "Do posts created at a certain time receive more comments on average?\n",
    "It should be noted that the data set we're working with was reduced from almost 300,000 rows to approximately 20,000 rows by removing all submissions that did not receive any comments, and then randomly sampling from the remaining submissions.\n",
    "\n",
    "The data for this project and the column descriptions can be found [here](https://www.kaggle.com/hacker-news/hacker-news-posts)\n",
    "\n",
    "The total user posts is approximately 300,000. For this project, we have removed posts/user submissions with no comments and are left with a randomly sliced out 20,000 submissions.\n",
    "\n"
   ]
  },
  {
   "cell_type": "code",
   "execution_count": 2,
   "metadata": {},
   "outputs": [
    {
     "name": "stdout",
     "output_type": "stream",
     "text": [
      "['id', 'title', 'url', 'num_points', 'num_comments', 'author', 'created_at']\n",
      "[['12224879', 'Interactive Dynamic Video', 'http://www.interactivedynamicvideo.com/', '386', '52', 'ne0phyte', '8/4/2016 11:52'], ['10975351', 'How to Use Open Source and Shut the Fuck Up at the Same Time', 'http://hueniverse.com/2016/01/26/how-to-use-open-source-and-shut-the-fuck-up-at-the-same-time/', '39', '10', 'josep2', '1/26/2016 19:30'], ['11964716', \"Florida DJs May Face Felony for April Fools' Water Joke\", 'http://www.thewire.com/entertainment/2013/04/florida-djs-april-fools-water-joke/63798/', '2', '1', 'vezycash', '6/23/2016 22:20'], ['11919867', 'Technology ventures: From Idea to Enterprise', 'https://www.amazon.com/Technology-Ventures-Enterprise-Thomas-Byers/dp/0073523429', '3', '1', 'hswarna', '6/17/2016 0:01'], ['10301696', 'Note by Note: The Making of Steinway L1037 (2007)', 'http://www.nytimes.com/2007/11/07/movies/07stein.html?_r=0', '8', '2', 'walterbell', '9/30/2015 4:12'], ['10482257', 'Title II kills investment? Comcast and other ISPs are now spending more', 'http://arstechnica.com/business/2015/10/comcast-and-other-isps-boost-network-investment-despite-net-neutrality/', '53', '22', 'Deinos', '10/31/2015 9:48']]\n"
     ]
    }
   ],
   "source": [
    "# Read the file in as a list of lists\n",
    "from csv import reader\n",
    "opened_file = open(\"hacker_news.csv\")\n",
    "read_file = reader(opened_file)\n",
    "hacker_news_header = list(read_file)\n",
    "hacker_news = hacker_news_header[1:]\n",
    "\n",
    "# to have a soft feel of our dataset\n",
    "print(hacker_news_header[0])\n",
    "print(hacker_news[:6])\n",
    "\n",
    "\n",
    "\n"
   ]
  },
  {
   "cell_type": "markdown",
   "metadata": {},
   "source": [
    "# From the Dataset, we extract the needed Data for our Project\n",
    "\n",
    "* We extract the data entries for ask HN posts\n",
    "* We extract the datat/information for show HN posts"
   ]
  },
  {
   "cell_type": "code",
   "execution_count": 3,
   "metadata": {},
   "outputs": [
    {
     "name": "stdout",
     "output_type": "stream",
     "text": [
      "Number of ask hn posts 1744\n",
      "\n",
      "\n",
      "Number of show hn posts 1162\n",
      "\n",
      "\n",
      "Number of other posts 18938\n"
     ]
    }
   ],
   "source": [
    "# To do this data extraction, we shall make use of the startswith and lower method of the string class. This is \n",
    "# because ask HN or Show HN entries might have been ramdomly done between lower and upper cases. So for uniformity\n",
    "# we first convert all to lower case before applyng the startswith method.\n",
    "\n",
    "ask_posts = []\n",
    "show_posts = []\n",
    "other_posts = []\n",
    "for each_list in hacker_news:\n",
    "    title = each_list[1]\n",
    "    if title.lower().startswith(\"ask hn\"):\n",
    "        ask_posts.append(each_list)\n",
    "    if title.lower().startswith(\"show hn\"):\n",
    "        show_posts.append(each_list)\n",
    "    else:\n",
    "        other_posts.append(each_list)\n",
    "print(\"Number of ask hn posts\", len(ask_posts))\n",
    "print(\"\\n\")\n",
    "print(\"Number of show hn posts\", len(show_posts))\n",
    "print(\"\\n\")\n",
    "print(\"Number of other posts\", len(other_posts))\n",
    "\n"
   ]
  },
  {
   "cell_type": "code",
   "execution_count": 4,
   "metadata": {},
   "outputs": [
    {
     "name": "stdout",
     "output_type": "stream",
     "text": [
      "[['12296411', 'Ask HN: How to improve my personal website?', '', '2', '6', 'ahmedbaracat', '8/16/2016 9:55'], ['10610020', 'Ask HN: Am I the only one outraged by Twitter shutting down share counts?', '', '28', '29', 'tkfx', '11/22/2015 13:43']]\n",
      "\n",
      "\n",
      "[['10627194', 'Show HN: Wio Link  ESP8266 Based Web of Things Hardware Development Platform', 'https://iot.seeed.cc', '26', '22', 'kfihihc', '11/25/2015 14:03'], ['10646440', 'Show HN: Something pointless I made', 'http://dn.ht/picklecat/', '747', '102', 'dhotson', '11/29/2015 22:46']]\n"
     ]
    }
   ],
   "source": [
    "# print the first 2 rows of ask_posts, show_posts to have a feel of the data\n",
    "print(ask_posts[:2])\n",
    "print(\"\\n\")\n",
    "print(show_posts[:2])"
   ]
  },
  {
   "cell_type": "markdown",
   "metadata": {},
   "source": [
    "# We Analyse our Extracted Data\n",
    "\n",
    "* Here, we shall check for which category of posts has more comments on the average"
   ]
  },
  {
   "cell_type": "code",
   "execution_count": 5,
   "metadata": {},
   "outputs": [
    {
     "name": "stdout",
     "output_type": "stream",
     "text": [
      "Average Comments for Ask Posts: 14.038417431192661\n",
      "Average Comments for Show Posts: 10.31669535283993\n"
     ]
    }
   ],
   "source": [
    "# we calculate the total number of comments for ask HN posts, show HN posts, and calculate which post has more comment\n",
    "# on the average\n",
    "total_ask_comments = 0\n",
    "total_show_comments = 0\n",
    "for each_list in ask_posts:\n",
    "    num_comments = each_list[4]\n",
    "    num_comments = int(num_comments)\n",
    "    total_ask_comments = total_ask_comments + num_comments\n",
    "for each_list in show_posts:\n",
    "    num_comments = each_list[4]\n",
    "    num_comments = int(num_comments)\n",
    "    total_show_comments = total_show_comments + num_comments\n",
    "avg_ask_comments = total_ask_comments / len(ask_posts)\n",
    "avg_show_comments = total_show_comments / len(show_posts)\n",
    "print(\"Average Comments for Ask Posts:\", avg_ask_comments)\n",
    "print(\"Average Comments for Show Posts:\", avg_show_comments)\n",
    "    "
   ]
  },
  {
   "cell_type": "markdown",
   "metadata": {},
   "source": [
    "From the above, we can see that ask Hacker News posts have more comments on the average than posts seeking to enlighten Hacker News"
   ]
  },
  {
   "cell_type": "markdown",
   "metadata": {},
   "source": [
    "Could the time the ask posts are made be a contributing factor to the number of comments received? We'll determine this by \n",
    "\n",
    "* Calculating the number of ask posts created in each hour of the day and the corresponding comments received for the posts.\n",
    "\n",
    "* After which, we\"ll calculate the average number of comments ask posts receive for each hour "
   ]
  },
  {
   "cell_type": "code",
   "execution_count": 6,
   "metadata": {},
   "outputs": [
    {
     "name": "stdout",
     "output_type": "stream",
     "text": [
      "[['8/16/2016 9:55', '6'], ['11/22/2015 13:43', '29'], ['5/2/2016 10:14', '1'], ['8/2/2016 14:20', '3'], ['10/15/2015 16:38', '17'], ['9/26/2015 23:23', '1'], ['4/22/2016 12:24', '4'], ['11/16/2015 9:22', '1'], ['2/24/2016 17:57', '1'], ['6/4/2016 17:17', '2']]\n"
     ]
    }
   ],
   "source": [
    "# we need the datetime module to do this job\n",
    "import datetime as dt\n",
    "# we create an empty list to store the time the ask posts were created and the corresponding number of comments received.\n",
    "result_list = []\n",
    "for each_list in ask_posts:\n",
    "    time = each_list[6]\n",
    "    n_comment = each_list[4]\n",
    "    comment = int(n_comment)\n",
    "    result_list.append([time, n_comment])\n",
    "    \n",
    "# print result_list to see what you've done\n",
    "print(result_list[:10])\n"
   ]
  },
  {
   "cell_type": "code",
   "execution_count": 7,
   "metadata": {},
   "outputs": [
    {
     "name": "stdout",
     "output_type": "stream",
     "text": [
      "Hours:Posts: {'01': 60, '22': 71, '00': 55, '10': 59, '02': 58, '14': 107, '19': 110, '12': 73, '21': 109, '15': 116, '07': 34, '09': 45, '06': 44, '04': 47, '23': 68, '17': 100, '05': 46, '13': 85, '16': 108, '03': 54, '11': 58, '20': 80, '08': 48, '18': 109}\n",
      "\n",
      "\n",
      "Hours:Comments: {'01': 683, '22': 479, '00': 447, '10': 793, '02': 1381, '14': 1416, '19': 1188, '12': 687, '21': 1745, '15': 4477, '07': 267, '09': 251, '06': 397, '04': 337, '23': 543, '17': 1146, '05': 464, '13': 1253, '16': 1814, '03': 421, '11': 641, '20': 1722, '08': 492, '18': 1439}\n"
     ]
    }
   ],
   "source": [
    "\n",
    "# we proceed\n",
    "num_ask_posts_per_time = {}\n",
    "num_comments_per_time = {}\n",
    "for each_list in result_list:\n",
    "    date_time = each_list[0]\n",
    "    comment = int(each_list[1])\n",
    "    date_time = dt.datetime.strptime(date_time, \"%m/%d/%Y %H:%M\")\n",
    "    date_time = date_time.strftime(\"%H\")\n",
    "    if date_time in num_ask_posts_per_time:\n",
    "        num_ask_posts_per_time[date_time] += 1\n",
    "        num_comments_per_time[date_time] += comment   \n",
    "    else:\n",
    "        num_ask_posts_per_time[date_time] = 1\n",
    "        num_comments_per_time[date_time] = comment\n",
    "\n",
    "# observe your dictionaries\n",
    "print(\"Hours:Posts:\", num_ask_posts_per_time)\n",
    "print(\"\\n\")\n",
    "print(\"Hours:Comments:\", num_comments_per_time)\n",
    "\n",
    "\n"
   ]
  },
  {
   "cell_type": "code",
   "execution_count": 8,
   "metadata": {},
   "outputs": [
    {
     "data": {
      "text/plain": [
       "[['01', 11.383333333333333],\n",
       " ['22', 6.746478873239437],\n",
       " ['00', 8.127272727272727],\n",
       " ['10', 13.440677966101696],\n",
       " ['02', 23.810344827586206],\n",
       " ['14', 13.233644859813085],\n",
       " ['19', 10.8],\n",
       " ['12', 9.41095890410959],\n",
       " ['21', 16.009174311926607],\n",
       " ['15', 38.5948275862069],\n",
       " ['07', 7.852941176470588],\n",
       " ['09', 5.5777777777777775],\n",
       " ['06', 9.022727272727273],\n",
       " ['04', 7.170212765957447],\n",
       " ['23', 7.985294117647059],\n",
       " ['17', 11.46],\n",
       " ['05', 10.08695652173913],\n",
       " ['13', 14.741176470588234],\n",
       " ['16', 16.796296296296298],\n",
       " ['03', 7.796296296296297],\n",
       " ['11', 11.051724137931034],\n",
       " ['20', 21.525],\n",
       " ['08', 10.25],\n",
       " ['18', 13.20183486238532]]"
      ]
     },
     "execution_count": 8,
     "metadata": {},
     "output_type": "execute_result"
    }
   ],
   "source": [
    "# We proceed to calculate the average number of comments ask posts receive for each hour\n",
    "avg_comments_per_hour = []\n",
    "for each_hour in num_comments_per_time:\n",
    "    a = each_hour\n",
    "    b = num_comments_per_time[each_hour]\n",
    "    c = num_ask_posts_per_time[each_hour]\n",
    "    d = b / c\n",
    "    avg_comments_per_hour.append([a, d])\n",
    "avg_comments_per_hour"
   ]
  },
  {
   "cell_type": "markdown",
   "metadata": {},
   "source": [
    "We can see from the result above the average comments per hour for ask HN posts. However, let us format the result for better reporting"
   ]
  },
  {
   "cell_type": "code",
   "execution_count": 64,
   "metadata": {},
   "outputs": [
    {
     "name": "stdout",
     "output_type": "stream",
     "text": [
      "Top 5 hours that have the highest comments for ask HN post:\n"
     ]
    },
    {
     "data": {
      "text/plain": [
       "[[38.5948275862069, '15'],\n",
       " [23.810344827586206, '02'],\n",
       " [21.525, '20'],\n",
       " [16.796296296296298, '16'],\n",
       " [16.009174311926607, '21'],\n",
       " [14.741176470588234, '13'],\n",
       " [13.440677966101696, '10'],\n",
       " [13.233644859813085, '14'],\n",
       " [13.20183486238532, '18'],\n",
       " [11.46, '17']]"
      ]
     },
     "execution_count": 64,
     "metadata": {},
     "output_type": "execute_result"
    }
   ],
   "source": [
    "avg_comments_hour = []\n",
    "for each_list in avg_comments_per_hour:\n",
    "    avg_comments_hour.append([each_list[1], each_list[0]])\n",
    "avg_comments = sorted(avg_comments_hour, reverse = True)\n",
    "print(\"Top 5 hours that have the highest comments for ask HN post:\")\n",
    "avg_comments[:10]"
   ]
  },
  {
   "cell_type": "code",
   "execution_count": 10,
   "metadata": {},
   "outputs": [
    {
     "name": "stdout",
     "output_type": "stream",
     "text": [
      "Top 5 hours that have the highest comments for ask HN post:\n",
      "15:00: 38.59 average comments per post.\n",
      "02:00: 23.81 average comments per post.\n",
      "20:00: 21.52 average comments per post.\n",
      "16:00: 16.80 average comments per post.\n",
      "21:00: 16.01 average comments per post.\n"
     ]
    }
   ],
   "source": [
    "#We proceed with our formatting\n",
    "print(\"Top 5 hours that have the highest comments for ask HN post:\")\n",
    "final_report = avg_comments[:5]\n",
    "for each_list in final_report:\n",
    "    a = each_list[0]\n",
    "    b = each_list[1]\n",
    "    b = dt.datetime.strptime(b, \"%H\").strftime(\"%H:%M\")\n",
    "    template = \"{time}: {figure:.2f} average comments per post.\"\n",
    "    output = template.format(time = b, figure = a)\n",
    "    print(output)\n",
    "    \n",
    "        \n",
    "   \n",
    "    "
   ]
  },
  {
   "cell_type": "markdown",
   "metadata": {},
   "source": [
    "The hour that receives the most comments per post on average is 15:00, with an average of 38.59 comments per post. There's about a 60% increase in the number of comments between the hours with the highest and second highest average number of comments.\n",
    "\n",
    "According to the [data set documentation](https://www.kaggle.com/hacker-news/hacker-news-posts), the timezone used is Eastern Time in the US. So, we could also write 15:00 as 3:00 pm est and 8:00 pm WAT"
   ]
  },
  {
   "cell_type": "markdown",
   "metadata": {},
   "source": [
    "# Conclusion\n",
    "In this project, we analyzed ask posts and show posts to determine which type of post and time receive the most comments on average. Based on our analysis, to maximize the amount of comments a post receives, we'd recommend the post be categorized as ask post and created between 15:00 and 16:00(3:00 pm est - 4:00 pm est/8:00 pm WAT - 9:00 pm WAT).\n",
    "\n",
    "However, it should be noted that the data set we analyzed excluded posts without any comments. Given that, it's more accurate to say that of the posts that received comments, ask posts received more comments on average and ask posts created between 15:00 and 16:00(3:00 pm est - 4:00 pm est/8:00 pm WAT - 9:00 pm WAT) received the most comments on average."
   ]
  },
  {
   "cell_type": "markdown",
   "metadata": {},
   "source": [
    "# Further Investigation on the dataset\n",
    "\n",
    "Here, we will:\n",
    "* Determine if show or ask posts receive more points on average.\n",
    "* Determine if posts created at a certain time are more likely to receive more points.\n",
    "* Compare your results to the average number of comments and points other posts receive."
   ]
  },
  {
   "cell_type": "code",
   "execution_count": 11,
   "metadata": {},
   "outputs": [
    {
     "name": "stdout",
     "output_type": "stream",
     "text": [
      "Average Points for Ask Posts: 15.061926605504587\n",
      "Average Points for Show Posts: 27.555077452667813\n"
     ]
    }
   ],
   "source": [
    "# We proceed to determine if show or ask posts receive more point on the average\n",
    "\n",
    "total_ask_points = 0\n",
    "total_show_points = 0\n",
    "for each_list in ask_posts:\n",
    "    num_points = each_list[3]\n",
    "    num_points = int(num_points)\n",
    "    total_ask_points = total_ask_points + num_points\n",
    "for each_list in show_posts:\n",
    "    num_points = each_list[3]\n",
    "    num_points = int(num_points)\n",
    "    total_show_points = total_show_points + num_points\n",
    "avg_ask_points = total_ask_points / len(ask_posts)\n",
    "avg_show_points = total_show_points / len(show_posts)\n",
    "print(\"Average Points for Ask Posts:\", avg_ask_points)\n",
    "print(\"Average Points for Show Posts:\", avg_show_points)\n",
    "    "
   ]
  },
  {
   "cell_type": "code",
   "execution_count": 35,
   "metadata": {},
   "outputs": [
    {
     "data": {
      "text/plain": [
       "[['01', 25.0],\n",
       " ['22', 40.34782608695652],\n",
       " ['00', 37.83870967741935],\n",
       " ['10', 18.916666666666668],\n",
       " ['05', 5.473684210526316],\n",
       " ['14', 25.430232558139537],\n",
       " ['19', 30.945454545454545],\n",
       " ['12', 41.68852459016394],\n",
       " ['21', 18.425531914893618],\n",
       " ['11', 33.63636363636363],\n",
       " ['07', 19.0],\n",
       " ['09', 18.433333333333334],\n",
       " ['06', 23.4375],\n",
       " ['04', 14.846153846153847],\n",
       " ['17', 27.107526881720432],\n",
       " ['23', 42.388888888888886],\n",
       " ['02', 11.333333333333334],\n",
       " ['13', 24.626262626262626],\n",
       " ['16', 28.322580645161292],\n",
       " ['03', 25.14814814814815],\n",
       " ['15', 28.564102564102566],\n",
       " ['20', 30.316666666666666],\n",
       " ['08', 15.264705882352942],\n",
       " ['18', 36.31147540983606]]"
      ]
     },
     "execution_count": 35,
     "metadata": {},
     "output_type": "execute_result"
    }
   ],
   "source": [
    "points_per_hour = []\n",
    "for each_list in show_posts:\n",
    "    points = each_list[3]\n",
    "    hours = each_list[-1]\n",
    "    points_per_hour.append([points, hours])\n",
    "points_per_hour\n",
    "\n",
    "# parse datetime using strptime method and format using strftime method to extract the hour only\n",
    "\n",
    "num_points_per_hour = {}\n",
    "hour = {}\n",
    "for each_list in points_per_hour:\n",
    "    date_time = each_list[1]\n",
    "    points = int(each_list[0])\n",
    "    date_time = dt.datetime.strptime(date_time, \"%m/%d/%Y %H:%M\")\n",
    "    date_time = date_time.strftime(\"%H\")\n",
    "    if date_time in hour:\n",
    "        hour[date_time] += 1\n",
    "    else:\n",
    "        hour[date_time] = 1\n",
    "    if date_time in num_points_per_hour:\n",
    "        num_points_per_hour[date_time] = (num_points_per_hour[date_time] + points) \n",
    "    else:\n",
    "        num_points_per_hour[date_time] = points\n",
    "average_points_per_hour = []\n",
    "for each_hour in num_points_per_hour:\n",
    "    ax = each_hour\n",
    "    bx = num_points_per_hour[each_hour]\n",
    "    cx = hour[each_hour]\n",
    "    dx = bx / cx\n",
    "    average_points_per_hour.append([each_hour, dx])\n",
    "average_points_per_hour\n",
    "\n",
    "\n",
    "    \n"
   ]
  },
  {
   "cell_type": "code",
   "execution_count": 43,
   "metadata": {},
   "outputs": [
    {
     "name": "stdout",
     "output_type": "stream",
     "text": [
      "Top 5 hours that have the highest points for show HN post:\n"
     ]
    },
    {
     "data": {
      "text/plain": [
       "[[42.388888888888886, 23],\n",
       " [41.68852459016394, 12],\n",
       " [40.34782608695652, 22],\n",
       " [37.83870967741935, 0],\n",
       " [36.31147540983606, 18]]"
      ]
     },
     "execution_count": 43,
     "metadata": {},
     "output_type": "execute_result"
    }
   ],
   "source": [
    "avg_points_hour = []\n",
    "for each_list in average_points_per_hour:\n",
    "    avg_points_hour.append([each_list[1], each_list[0]])\n",
    "avg_points = sorted(avg_points_hour, reverse = True)\n",
    "print(\"Top 5 hours that have the highest points for show HN post:\")\n",
    "avg_points[:5]"
   ]
  },
  {
   "cell_type": "code",
   "execution_count": 63,
   "metadata": {},
   "outputs": [
    {
     "name": "stdout",
     "output_type": "stream",
     "text": [
      "There are an average of 42.39 points per show HN post made at 23:00\n",
      "There are an average of 41.69 points per show HN post made at 12:00\n",
      "There are an average of 40.35 points per show HN post made at 22:00\n",
      "There are an average of 37.84 points per show HN post made at 00:00\n",
      "There are an average of 36.31 points per show HN post made at 18:00\n",
      "There are an average of 33.64 points per show HN post made at 11:00\n",
      "There are an average of 30.95 points per show HN post made at 19:00\n",
      "There are an average of 30.32 points per show HN post made at 20:00\n",
      "There are an average of 28.56 points per show HN post made at 15:00\n",
      "There are an average of 28.32 points per show HN post made at 16:00\n",
      "There are an average of 27.11 points per show HN post made at 17:00\n",
      "There are an average of 25.43 points per show HN post made at 14:00\n",
      "There are an average of 25.15 points per show HN post made at 03:00\n",
      "There are an average of 25.00 points per show HN post made at 01:00\n",
      "There are an average of 24.63 points per show HN post made at 13:00\n",
      "There are an average of 23.44 points per show HN post made at 06:00\n",
      "There are an average of 19.00 points per show HN post made at 07:00\n",
      "There are an average of 18.92 points per show HN post made at 10:00\n",
      "There are an average of 18.43 points per show HN post made at 09:00\n",
      "There are an average of 18.43 points per show HN post made at 21:00\n"
     ]
    }
   ],
   "source": [
    "a = avg_points[:20]\n",
    "for each_list in a:\n",
    "    points = each_list[0]\n",
    "    hour = str(each_list[1])\n",
    "    hour = dt.datetime.strptime(hour, \"%H\").strftime(\"%H:%M\")\n",
    "    template = \"There are an average of {point:.2f} points per show HN post made at {time}\"\n",
    "    output = template.format(point = points, time = hour)\n",
    "    print(output)\n",
    "  "
   ]
  },
  {
   "cell_type": "markdown",
   "metadata": {},
   "source": [
    "We further investigated  ask posts and show posts to determine which type of post and time receive the most points on average. Based on our analysis, although the highest number of points received for a show HN post was submitted by 23:00 US Eastern Time( 4:00 am West African Time), it seems that points associated with show posts do not correlate with the time it was submitted. From our result, the dispersion of the post hours was high: times were as dispersed as 00:00 to 23:00 but with some very strong central tendencies from the corresponding post points. It seems that the kind of post submitted determines the points received as against the post time. As such further investigation is recommended.\n"
   ]
  }
 ],
 "metadata": {
  "kernelspec": {
   "display_name": "Python 3",
   "language": "python",
   "name": "python3"
  },
  "language_info": {
   "codemirror_mode": {
    "name": "ipython",
    "version": 3
   },
   "file_extension": ".py",
   "mimetype": "text/x-python",
   "name": "python",
   "nbconvert_exporter": "python",
   "pygments_lexer": "ipython3",
   "version": "3.7.6"
  }
 },
 "nbformat": 4,
 "nbformat_minor": 2
}
